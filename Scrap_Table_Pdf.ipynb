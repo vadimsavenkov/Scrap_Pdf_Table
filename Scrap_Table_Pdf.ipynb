{
 "cells": [
  {
   "cell_type": "code",
   "execution_count": 1,
   "id": "1784ea8e",
   "metadata": {},
   "outputs": [],
   "source": [
    "!pip install \"camelot-py[cv]\" -q"
   ]
  },
  {
   "cell_type": "code",
   "execution_count": 2,
   "id": "982bff85",
   "metadata": {},
   "outputs": [
    {
     "name": "stdout",
     "output_type": "stream",
     "text": [
      "Requirement already satisfied: ghostscript in c:\\users\\zl0423\\anaconda3\\lib\\site-packages (0.7)\n",
      "Requirement already satisfied: setuptools>=38.6.0 in c:\\users\\zl0423\\anaconda3\\lib\\site-packages (from ghostscript) (58.0.4)\n"
     ]
    }
   ],
   "source": [
    "!pip install ghostscript"
   ]
  },
  {
   "cell_type": "code",
   "execution_count": 3,
   "id": "6c7b44a9",
   "metadata": {},
   "outputs": [],
   "source": [
    "import ghostscript\n",
    "import camelot as cam"
   ]
  },
  {
   "cell_type": "code",
   "execution_count": 4,
   "id": "436599f4",
   "metadata": {},
   "outputs": [
    {
     "ename": "FileNotFoundError",
     "evalue": "[Errno 2] No such file or directory: 'NC35 Offshore Area.pdf'",
     "output_type": "error",
     "traceback": [
      "\u001b[1;31m---------------------------------------------------------------------------\u001b[0m",
      "\u001b[1;31mFileNotFoundError\u001b[0m                         Traceback (most recent call last)",
      "\u001b[1;32m~\\AppData\\Local\\Temp/ipykernel_10584/3582838745.py\u001b[0m in \u001b[0;36m<module>\u001b[1;34m\u001b[0m\n\u001b[1;32m----> 1\u001b[1;33m \u001b[0mpdf\u001b[0m \u001b[1;33m=\u001b[0m \u001b[0mcam\u001b[0m\u001b[1;33m.\u001b[0m\u001b[0mread_pdf\u001b[0m\u001b[1;33m(\u001b[0m\u001b[1;34m\"NC35 Offshore Area.pdf\"\u001b[0m\u001b[1;33m,\u001b[0m \u001b[0mpages\u001b[0m \u001b[1;33m=\u001b[0m \u001b[1;34m\"32\"\u001b[0m\u001b[1;33m)\u001b[0m\u001b[1;33m\u001b[0m\u001b[1;33m\u001b[0m\u001b[0m\n\u001b[0m\u001b[0;32m      2\u001b[0m \u001b[0mpdf\u001b[0m\u001b[1;33m\u001b[0m\u001b[1;33m\u001b[0m\u001b[0m\n",
      "\u001b[1;32m~\\Anaconda3\\lib\\site-packages\\camelot\\io.py\u001b[0m in \u001b[0;36mread_pdf\u001b[1;34m(filepath, pages, password, flavor, suppress_stdout, layout_kwargs, **kwargs)\u001b[0m\n\u001b[0;32m    109\u001b[0m \u001b[1;33m\u001b[0m\u001b[0m\n\u001b[0;32m    110\u001b[0m         \u001b[0mvalidate_input\u001b[0m\u001b[1;33m(\u001b[0m\u001b[0mkwargs\u001b[0m\u001b[1;33m,\u001b[0m \u001b[0mflavor\u001b[0m\u001b[1;33m=\u001b[0m\u001b[0mflavor\u001b[0m\u001b[1;33m)\u001b[0m\u001b[1;33m\u001b[0m\u001b[1;33m\u001b[0m\u001b[0m\n\u001b[1;32m--> 111\u001b[1;33m         \u001b[0mp\u001b[0m \u001b[1;33m=\u001b[0m \u001b[0mPDFHandler\u001b[0m\u001b[1;33m(\u001b[0m\u001b[0mfilepath\u001b[0m\u001b[1;33m,\u001b[0m \u001b[0mpages\u001b[0m\u001b[1;33m=\u001b[0m\u001b[0mpages\u001b[0m\u001b[1;33m,\u001b[0m \u001b[0mpassword\u001b[0m\u001b[1;33m=\u001b[0m\u001b[0mpassword\u001b[0m\u001b[1;33m)\u001b[0m\u001b[1;33m\u001b[0m\u001b[1;33m\u001b[0m\u001b[0m\n\u001b[0m\u001b[0;32m    112\u001b[0m         \u001b[0mkwargs\u001b[0m \u001b[1;33m=\u001b[0m \u001b[0mremove_extra\u001b[0m\u001b[1;33m(\u001b[0m\u001b[0mkwargs\u001b[0m\u001b[1;33m,\u001b[0m \u001b[0mflavor\u001b[0m\u001b[1;33m=\u001b[0m\u001b[0mflavor\u001b[0m\u001b[1;33m)\u001b[0m\u001b[1;33m\u001b[0m\u001b[1;33m\u001b[0m\u001b[0m\n\u001b[0;32m    113\u001b[0m         tables = p.parse(\n",
      "\u001b[1;32m~\\Anaconda3\\lib\\site-packages\\camelot\\handlers.py\u001b[0m in \u001b[0;36m__init__\u001b[1;34m(self, filepath, pages, password)\u001b[0m\n\u001b[0;32m     48\u001b[0m             \u001b[1;32mif\u001b[0m \u001b[0msys\u001b[0m\u001b[1;33m.\u001b[0m\u001b[0mversion_info\u001b[0m\u001b[1;33m[\u001b[0m\u001b[1;36m0\u001b[0m\u001b[1;33m]\u001b[0m \u001b[1;33m<\u001b[0m \u001b[1;36m3\u001b[0m\u001b[1;33m:\u001b[0m\u001b[1;33m\u001b[0m\u001b[1;33m\u001b[0m\u001b[0m\n\u001b[0;32m     49\u001b[0m                 \u001b[0mself\u001b[0m\u001b[1;33m.\u001b[0m\u001b[0mpassword\u001b[0m \u001b[1;33m=\u001b[0m \u001b[0mself\u001b[0m\u001b[1;33m.\u001b[0m\u001b[0mpassword\u001b[0m\u001b[1;33m.\u001b[0m\u001b[0mencode\u001b[0m\u001b[1;33m(\u001b[0m\u001b[1;34m\"ascii\"\u001b[0m\u001b[1;33m)\u001b[0m\u001b[1;33m\u001b[0m\u001b[1;33m\u001b[0m\u001b[0m\n\u001b[1;32m---> 50\u001b[1;33m         \u001b[0mself\u001b[0m\u001b[1;33m.\u001b[0m\u001b[0mpages\u001b[0m \u001b[1;33m=\u001b[0m \u001b[0mself\u001b[0m\u001b[1;33m.\u001b[0m\u001b[0m_get_pages\u001b[0m\u001b[1;33m(\u001b[0m\u001b[0mpages\u001b[0m\u001b[1;33m)\u001b[0m\u001b[1;33m\u001b[0m\u001b[1;33m\u001b[0m\u001b[0m\n\u001b[0m\u001b[0;32m     51\u001b[0m \u001b[1;33m\u001b[0m\u001b[0m\n\u001b[0;32m     52\u001b[0m     \u001b[1;32mdef\u001b[0m \u001b[0m_get_pages\u001b[0m\u001b[1;33m(\u001b[0m\u001b[0mself\u001b[0m\u001b[1;33m,\u001b[0m \u001b[0mpages\u001b[0m\u001b[1;33m)\u001b[0m\u001b[1;33m:\u001b[0m\u001b[1;33m\u001b[0m\u001b[1;33m\u001b[0m\u001b[0m\n",
      "\u001b[1;32m~\\Anaconda3\\lib\\site-packages\\camelot\\handlers.py\u001b[0m in \u001b[0;36m_get_pages\u001b[1;34m(self, pages)\u001b[0m\n\u001b[0;32m     72\u001b[0m             \u001b[0mpage_numbers\u001b[0m\u001b[1;33m.\u001b[0m\u001b[0mappend\u001b[0m\u001b[1;33m(\u001b[0m\u001b[1;33m{\u001b[0m\u001b[1;34m\"start\"\u001b[0m\u001b[1;33m:\u001b[0m \u001b[1;36m1\u001b[0m\u001b[1;33m,\u001b[0m \u001b[1;34m\"end\"\u001b[0m\u001b[1;33m:\u001b[0m \u001b[1;36m1\u001b[0m\u001b[1;33m}\u001b[0m\u001b[1;33m)\u001b[0m\u001b[1;33m\u001b[0m\u001b[1;33m\u001b[0m\u001b[0m\n\u001b[0;32m     73\u001b[0m         \u001b[1;32melse\u001b[0m\u001b[1;33m:\u001b[0m\u001b[1;33m\u001b[0m\u001b[1;33m\u001b[0m\u001b[0m\n\u001b[1;32m---> 74\u001b[1;33m             \u001b[1;32mwith\u001b[0m \u001b[0mopen\u001b[0m\u001b[1;33m(\u001b[0m\u001b[0mself\u001b[0m\u001b[1;33m.\u001b[0m\u001b[0mfilepath\u001b[0m\u001b[1;33m,\u001b[0m \u001b[1;34m\"rb\"\u001b[0m\u001b[1;33m)\u001b[0m \u001b[1;32mas\u001b[0m \u001b[0mf\u001b[0m\u001b[1;33m:\u001b[0m\u001b[1;33m\u001b[0m\u001b[1;33m\u001b[0m\u001b[0m\n\u001b[0m\u001b[0;32m     75\u001b[0m                 \u001b[0minfile\u001b[0m \u001b[1;33m=\u001b[0m \u001b[0mPdfFileReader\u001b[0m\u001b[1;33m(\u001b[0m\u001b[0mf\u001b[0m\u001b[1;33m,\u001b[0m \u001b[0mstrict\u001b[0m\u001b[1;33m=\u001b[0m\u001b[1;32mFalse\u001b[0m\u001b[1;33m)\u001b[0m\u001b[1;33m\u001b[0m\u001b[1;33m\u001b[0m\u001b[0m\n\u001b[0;32m     76\u001b[0m \u001b[1;33m\u001b[0m\u001b[0m\n",
      "\u001b[1;31mFileNotFoundError\u001b[0m: [Errno 2] No such file or directory: 'NC35 Offshore Area.pdf'"
     ]
    }
   ],
   "source": [
    "pdf = cam.read_pdf(\"NC35 Offshore Area.pdf\", pages = \"32\")\n",
    "pdf"
   ]
  },
  {
   "cell_type": "code",
   "execution_count": null,
   "id": "994737c8",
   "metadata": {},
   "outputs": [],
   "source": [
    "table = pdf[0].df\n",
    "table"
   ]
  },
  {
   "cell_type": "code",
   "execution_count": null,
   "id": "bd395bfc",
   "metadata": {},
   "outputs": [],
   "source": [
    "import pandas as pd"
   ]
  },
  {
   "cell_type": "code",
   "execution_count": null,
   "id": "f7f2f1e5",
   "metadata": {},
   "outputs": [],
   "source": [
    "#file_name = 'C1-NC35A DST and Production Tests.xlsx'\n",
    "file_name = pd.ExcelWriter('C1-NC35A DST and Production Tests.xlsx')\n",
    "table.to_excel(file_name)\n",
    "table.to_excel(file_name)\n",
    "file_name.save()"
   ]
  },
  {
   "cell_type": "code",
   "execution_count": null,
   "id": "0f3ec48a",
   "metadata": {},
   "outputs": [],
   "source": [
    "pdf_p33 = cam.read_pdf(\"NC35 Offshore Area.pdf\", pages = \"33\")\n",
    "pdf_p33"
   ]
  },
  {
   "cell_type": "code",
   "execution_count": null,
   "id": "5b26b3ac",
   "metadata": {},
   "outputs": [],
   "source": [
    "table2 = pdf_p33[0].df\n",
    "table2"
   ]
  },
  {
   "cell_type": "code",
   "execution_count": null,
   "id": "2e2f1a02",
   "metadata": {},
   "outputs": [],
   "source": [
    "file_name2 = pd.ExcelWriter('D1-NC35A DST and Production Tests.xlsx')\n",
    "table2.to_excel(file_name2)\n",
    "table2.to_excel(file_name2)\n",
    "file_name2.save()"
   ]
  },
  {
   "cell_type": "code",
   "execution_count": null,
   "id": "8809ec44",
   "metadata": {},
   "outputs": [],
   "source": [
    "pdf_p34 = cam.read_pdf(\"NC35 Offshore Area.pdf\", pages = \"33,34\")\n",
    "pdf_p34"
   ]
  },
  {
   "cell_type": "code",
   "execution_count": null,
   "id": "3b7d9ff9",
   "metadata": {},
   "outputs": [],
   "source": [
    "table3 = pdf_p34[1].df\n",
    "table3"
   ]
  },
  {
   "cell_type": "code",
   "execution_count": null,
   "id": "75102d81",
   "metadata": {},
   "outputs": [],
   "source": [
    "file_name3 = pd.ExcelWriter('G1-NC35A DST and Production Tests.xlsx')\n",
    "table3.to_excel(file_name3)\n",
    "table3.to_excel(file_name3)\n",
    "file_name3.save()"
   ]
  },
  {
   "cell_type": "code",
   "execution_count": null,
   "id": "7581c9f8",
   "metadata": {},
   "outputs": [],
   "source": [
    "pdf_p28 = cam.read_pdf(\"U1- NC41 FinalReport.pdf\", pages = \"28\")\n",
    "pdf_p28"
   ]
  },
  {
   "cell_type": "code",
   "execution_count": null,
   "id": "0c49491c",
   "metadata": {},
   "outputs": [],
   "source": [
    "table4 = pdf_p28[1].df\n",
    "table4"
   ]
  },
  {
   "cell_type": "code",
   "execution_count": null,
   "id": "3a5bb9c5",
   "metadata": {},
   "outputs": [],
   "source": [
    "file_name4 = pd.ExcelWriter('U1-NC41 DST Results.xlsx')\n",
    "table4.to_excel(file_name4)\n",
    "table4.to_excel(file_name4)\n",
    "file_name4.save()"
   ]
  },
  {
   "cell_type": "code",
   "execution_count": null,
   "id": "b55910ce",
   "metadata": {},
   "outputs": [],
   "source": [
    "pdf_p26 = cam.read_pdf(\"Waha MP Phase 1 Final Report.pdf\", pages = \"26\")\n",
    "pdf_p26"
   ]
  },
  {
   "cell_type": "code",
   "execution_count": null,
   "id": "a5237d4a",
   "metadata": {},
   "outputs": [],
   "source": [
    "table5 = pdf_p26[1].df\n",
    "table5"
   ]
  },
  {
   "cell_type": "code",
   "execution_count": null,
   "id": "50054d23",
   "metadata": {},
   "outputs": [],
   "source": [
    "file_name5 = pd.ExcelWriter('Waha Largest Field Results.xlsx')\n",
    "table5.to_excel(file_name5)\n",
    "table5.to_excel(file_name5)\n",
    "file_name5.save()"
   ]
  },
  {
   "cell_type": "code",
   "execution_count": null,
   "id": "9a1011a3",
   "metadata": {},
   "outputs": [],
   "source": [
    "pdf_p10 = cam.read_pdf(\"Waha MP Phase 1 Final Report.pdf\", pages = \"10\")\n",
    "pdf_p10"
   ]
  },
  {
   "cell_type": "code",
   "execution_count": null,
   "id": "ce9288b1",
   "metadata": {},
   "outputs": [],
   "source": [
    "table6 = pdf_p10[1].df\n",
    "table6"
   ]
  },
  {
   "cell_type": "code",
   "execution_count": null,
   "id": "63bc62cc",
   "metadata": {},
   "outputs": [],
   "source": [
    "file_name6 = pd.ExcelWriter('WOC 1P Results.xlsx')\n",
    "table6.to_excel(file_name6)\n",
    "table6.to_excel(file_name6)\n",
    "file_name6.save()"
   ]
  },
  {
   "cell_type": "code",
   "execution_count": null,
   "id": "bfd645b1",
   "metadata": {},
   "outputs": [],
   "source": [
    "pdf_p11= cam.read_pdf(\"Waha MP Phase 1 Final Report.pdf\", pages = \"11\")\n",
    "pdf_p11"
   ]
  },
  {
   "cell_type": "code",
   "execution_count": null,
   "id": "99e1ad60",
   "metadata": {},
   "outputs": [],
   "source": [
    "table7 = pdf_p11[1].df\n",
    "table7"
   ]
  },
  {
   "cell_type": "code",
   "execution_count": null,
   "id": "6fe08f35",
   "metadata": {},
   "outputs": [],
   "source": [
    "file_name7 = pd.ExcelWriter('WOC 2P Results.xlsx')\n",
    "table7.to_excel(file_name7)\n",
    "table7.to_excel(file_name7)\n",
    "file_name7.save()"
   ]
  },
  {
   "cell_type": "code",
   "execution_count": null,
   "id": "91b14620",
   "metadata": {},
   "outputs": [],
   "source": [
    "pdf_p12= cam.read_pdf(\"Waha MP Phase 1 Final Report.pdf\", pages = \"12\")\n",
    "pdf_p12"
   ]
  },
  {
   "cell_type": "code",
   "execution_count": null,
   "id": "5b27c601",
   "metadata": {},
   "outputs": [],
   "source": [
    "table8 = pdf_p12[1].df\n",
    "table8"
   ]
  },
  {
   "cell_type": "code",
   "execution_count": null,
   "id": "fa4ef6ca",
   "metadata": {},
   "outputs": [],
   "source": [
    "file_name8 = pd.ExcelWriter('WOC 3P Results.xlsx')\n",
    "table8.to_excel(file_name8)\n",
    "table8.to_excel(file_name8)\n",
    "file_name8.save()"
   ]
  },
  {
   "cell_type": "code",
   "execution_count": null,
   "id": "e4c03b07",
   "metadata": {},
   "outputs": [],
   "source": [
    "pdf_p9= cam.read_pdf(\"Waha MP Phase 1 Final Report.pdf\", pages = \"9\")\n",
    "pdf_p9"
   ]
  },
  {
   "cell_type": "code",
   "execution_count": null,
   "id": "12c7cd4b",
   "metadata": {},
   "outputs": [],
   "source": [
    "table9 = pdf_p9[0].df\n",
    "table9"
   ]
  },
  {
   "cell_type": "code",
   "execution_count": null,
   "id": "6e06304f",
   "metadata": {},
   "outputs": [],
   "source": [
    "file_name9 = pd.ExcelWriter('WOC 1P_2P_3P Results.xlsx')\n",
    "table9.to_excel(file_name9)\n",
    "table9.to_excel(file_name9)\n",
    "file_name9.save()"
   ]
  },
  {
   "cell_type": "code",
   "execution_count": null,
   "id": "c43d9dea",
   "metadata": {},
   "outputs": [],
   "source": [
    "pdf_p13= cam.read_pdf(\"Waha MP Phase 1 Final Report.pdf\", pages = \"13\")\n",
    "pdf_p13"
   ]
  },
  {
   "cell_type": "code",
   "execution_count": null,
   "id": "a11126bf",
   "metadata": {},
   "outputs": [],
   "source": [
    "table10 = pdf_p13[0].df\n",
    "table10"
   ]
  },
  {
   "cell_type": "code",
   "execution_count": null,
   "id": "106a5538",
   "metadata": {},
   "outputs": [],
   "source": [
    "file_name10 = pd.ExcelWriter('WOC Cond3P Results.xlsx')\n",
    "table10.to_excel(file_name10)\n",
    "table10.to_excel(file_name10)\n",
    "file_name10.save()"
   ]
  },
  {
   "cell_type": "code",
   "execution_count": null,
   "id": "a8a2a3da",
   "metadata": {},
   "outputs": [],
   "source": [
    "pdf_p14= cam.read_pdf(\"Waha MP Phase 1 Final Report.pdf\", pages = \"14\")\n",
    "pdf_p14"
   ]
  },
  {
   "cell_type": "code",
   "execution_count": null,
   "id": "7854cf79",
   "metadata": {},
   "outputs": [],
   "source": [
    "table11 = pdf_p14[0].df\n",
    "table11"
   ]
  },
  {
   "cell_type": "code",
   "execution_count": null,
   "id": "7b849a1f",
   "metadata": {},
   "outputs": [],
   "source": [
    "file_name11 = pd.ExcelWriter('WOC AGas Results.xlsx')\n",
    "table11.to_excel(file_name11)\n",
    "table11.to_excel(file_name11)\n",
    "file_name11.save()"
   ]
  },
  {
   "cell_type": "code",
   "execution_count": null,
   "id": "8ad45926",
   "metadata": {},
   "outputs": [],
   "source": [
    "pdf_p35= cam.read_pdf(\"2011-Guidelines-for-Application-of-the-PRMS.pdf\", pages = \"35\")\n",
    "pdf_p35"
   ]
  },
  {
   "cell_type": "code",
   "execution_count": null,
   "id": "2f373e1a",
   "metadata": {},
   "outputs": [],
   "source": [
    "table35 = pdf_p35[0].df\n",
    "table35"
   ]
  },
  {
   "cell_type": "code",
   "execution_count": null,
   "id": "07f92a15",
   "metadata": {},
   "outputs": [],
   "source": []
  }
 ],
 "metadata": {
  "kernelspec": {
   "display_name": "Python 3 (ipykernel)",
   "language": "python",
   "name": "python3"
  },
  "language_info": {
   "codemirror_mode": {
    "name": "ipython",
    "version": 3
   },
   "file_extension": ".py",
   "mimetype": "text/x-python",
   "name": "python",
   "nbconvert_exporter": "python",
   "pygments_lexer": "ipython3",
   "version": "3.9.7"
  }
 },
 "nbformat": 4,
 "nbformat_minor": 5
}
