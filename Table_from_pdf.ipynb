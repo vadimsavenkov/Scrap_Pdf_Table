{
 "cells": [
  {
   "cell_type": "code",
   "execution_count": 2,
   "id": "cee0b164",
   "metadata": {},
   "outputs": [
    {
     "name": "stdout",
     "output_type": "stream",
     "text": [
      "Requirement already satisfied: ghostscript in c:\\users\\zl0423\\anaconda3\\lib\\site-packages (0.7)\n",
      "Requirement already satisfied: setuptools>=38.6.0 in c:\\users\\zl0423\\anaconda3\\lib\\site-packages (from ghostscript) (58.0.4)\n"
     ]
    }
   ],
   "source": [
    "!pip install \"camelot-py[all]\" -q\n",
    "!pip install ghostscript"
   ]
  },
  {
   "cell_type": "code",
   "execution_count": 4,
   "id": "796227bb",
   "metadata": {},
   "outputs": [],
   "source": [
    "import ghostscript\n",
    "import PyPDF2\n",
    "import camelot as cam"
   ]
  },
  {
   "cell_type": "code",
   "execution_count": 31,
   "id": "03d1502c",
   "metadata": {},
   "outputs": [],
   "source": [
    "file = open(\"Dr. Waniss A. Otman_Libyan Oil and Gas Resources_First Edition_2008.pdf\", 'rb')\n",
    "pdf_reader = PyPDF2.PdfFileReader(file)\n",
    "pdf_writer = PyPDF2.PdfFileWriter()"
   ]
  },
  {
   "cell_type": "code",
   "execution_count": 32,
   "id": "e9cc3b0e",
   "metadata": {},
   "outputs": [],
   "source": [
    "pdf_output = open(\"Table_Pages.pdf\", \"wb\")\n",
    "test_pages = [416, 417, 418, 419, 420]\n",
    "for i in test_pages:\n",
    "    pdf_writer.addPage(pdf_reader.getPage(i))\n",
    "    pdf_writer.write(pdf_output)\n",
    "file.close()\n",
    "pdf_output.close()"
   ]
  },
  {
   "cell_type": "code",
   "execution_count": 33,
   "id": "bfd35a14",
   "metadata": {},
   "outputs": [
    {
     "data": {
      "text/plain": [
       "<TableList n=9>"
      ]
     },
     "execution_count": 33,
     "metadata": {},
     "output_type": "execute_result"
    }
   ],
   "source": [
    "tables= cam.read_pdf(\"Table_Pages.pdf\", pages = \"all\")\n",
    "tables"
   ]
  },
  {
   "cell_type": "code",
   "execution_count": 34,
   "id": "60e87408",
   "metadata": {},
   "outputs": [
    {
     "data": {
      "text/html": [
       "<div>\n",
       "<style scoped>\n",
       "    .dataframe tbody tr th:only-of-type {\n",
       "        vertical-align: middle;\n",
       "    }\n",
       "\n",
       "    .dataframe tbody tr th {\n",
       "        vertical-align: top;\n",
       "    }\n",
       "\n",
       "    .dataframe thead th {\n",
       "        text-align: right;\n",
       "    }\n",
       "</style>\n",
       "<table border=\"1\" class=\"dataframe\">\n",
       "  <thead>\n",
       "    <tr style=\"text-align: right;\">\n",
       "      <th></th>\n",
       "      <th>0</th>\n",
       "      <th>1</th>\n",
       "      <th>2</th>\n",
       "      <th>3</th>\n",
       "      <th>4</th>\n",
       "      <th>5</th>\n",
       "      <th>6</th>\n",
       "      <th>7</th>\n",
       "      <th>8</th>\n",
       "      <th>9</th>\n",
       "      <th>10</th>\n",
       "    </tr>\n",
       "  </thead>\n",
       "  <tbody>\n",
       "    <tr>\n",
       "      <th>0</th>\n",
       "      <td>Co.nam.</td>\n",
       "      <td>Well No</td>\n",
       "      <td>Lat</td>\n",
       "      <td>Iona</td>\n",
       "      <td>G.L</td>\n",
       "      <td>K.B</td>\n",
       "      <td>T.O</td>\n",
       "      <td>class</td>\n",
       "      <td>Stat</td>\n",
       "      <td>So.Date</td>\n",
       "      <td>R.R</td>\n",
       "    </tr>\n",
       "    <tr>\n",
       "      <th>1</th>\n",
       "      <td>B.P.EXP</td>\n",
       "      <td>A1-34</td>\n",
       "      <td>32 26 56</td>\n",
       "      <td>131850</td>\n",
       "      <td>564</td>\n",
       "      <td>575</td>\n",
       "      <td>3496</td>\n",
       "      <td>A-3</td>\n",
       "      <td>drv</td>\n",
       "      <td>22112157</td>\n",
       "      <td>06/06/1958</td>\n",
       "    </tr>\n",
       "    <tr>\n",
       "      <th>2</th>\n",
       "      <td>ESSO</td>\n",
       "      <td>A1-1</td>\n",
       "      <td>26 41  04</td>\n",
       "      <td>10 2513</td>\n",
       "      <td>1741</td>\n",
       "      <td>1752</td>\n",
       "      <td>3491</td>\n",
       "      <td>A-3</td>\n",
       "      <td>drv</td>\n",
       "      <td>28/06157</td>\n",
       "      <td>09/01/1957</td>\n",
       "    </tr>\n",
       "    <tr>\n",
       "      <th>3</th>\n",
       "      <td>ESSO</td>\n",
       "      <td>81-1</td>\n",
       "      <td>2714 52</td>\n",
       "      <td>10-32-53</td>\n",
       "      <td>1652</td>\n",
       "      <td>1663</td>\n",
       "      <td>4137</td>\n",
       "      <td>A -3</td>\n",
       "      <td>aas</td>\n",
       "      <td>22/09157</td>\n",
       "      <td>12105/1957</td>\n",
       "    </tr>\n",
       "    <tr>\n",
       "      <th>4</th>\n",
       "      <td>ESSO</td>\n",
       "      <td>82-1</td>\n",
       "      <td>2716 11</td>\n",
       "      <td>10 31  50</td>\n",
       "      <td>1613</td>\n",
       "      <td></td>\n",
       "      <td>2960</td>\n",
       "      <td>A-3</td>\n",
       "      <td>oil</td>\n",
       "      <td>12/12/1957</td>\n",
       "      <td>20/01/58</td>\n",
       "    </tr>\n",
       "    <tr>\n",
       "      <th>5</th>\n",
       "      <td>LIB.AM</td>\n",
       "      <td>B1-18</td>\n",
       "      <td>32 24 04</td>\n",
       "      <td>213207</td>\n",
       "      <td>2170</td>\n",
       "      <td>2184</td>\n",
       "      <td>2212</td>\n",
       "      <td>A-3</td>\n",
       "      <td>lunk \\ndrv</td>\n",
       "      <td>22/02/57</td>\n",
       "      <td>28/05/57</td>\n",
       "    </tr>\n",
       "    <tr>\n",
       "      <th>6</th>\n",
       "      <td>LIB.AM</td>\n",
       "      <td>B1a-18</td>\n",
       "      <td>32 24 04</td>\n",
       "      <td>213297</td>\n",
       "      <td>2170</td>\n",
       "      <td>2184</td>\n",
       "      <td>8652</td>\n",
       "      <td>A-3</td>\n",
       "      <td></td>\n",
       "      <td>06/03/1957</td>\n",
       "      <td>30/10/57</td>\n",
       "    </tr>\n",
       "    <tr>\n",
       "      <th>7</th>\n",
       "      <td>LIB.AM</td>\n",
       "      <td>C1-18</td>\n",
       "      <td>32 3112</td>\n",
       "      <td>20 43 45</td>\n",
       "      <td>1093</td>\n",
       "      <td>1106</td>\n",
       "      <td>12000</td>\n",
       "      <td>A -3</td>\n",
       "      <td>drv</td>\n",
       "      <td>11/09/1957</td>\n",
       "      <td>09102/1958</td>\n",
       "    </tr>\n",
       "    <tr>\n",
       "      <th>8</th>\n",
       "      <td>MOBIL</td>\n",
       "      <td>A1-57</td>\n",
       "      <td>28 43 43</td>\n",
       "      <td>17 57 51</td>\n",
       "      <td>936</td>\n",
       "      <td>954</td>\n",
       "      <td>6280</td>\n",
       "      <td>A-3</td>\n",
       "      <td>drv</td>\n",
       "      <td>11103/1957</td>\n",
       "      <td>18/02/58</td>\n",
       "    </tr>\n",
       "  </tbody>\n",
       "</table>\n",
       "</div>"
      ],
      "text/plain": [
       "        0        1          2          3     4     5      6      7   \\\n",
       "0  Co.nam.  Well No        Lat       Iona   G.L   K.B    T.O  class   \n",
       "1  B.P.EXP    A1-34   32 26 56     131850   564   575   3496    A-3   \n",
       "2     ESSO     A1-1  26 41  04    10 2513  1741  1752   3491    A-3   \n",
       "3     ESSO     81-1    2714 52   10-32-53  1652  1663   4137   A -3   \n",
       "4     ESSO     82-1    2716 11  10 31  50  1613         2960    A-3   \n",
       "5   LIB.AM    B1-18   32 24 04     213207  2170  2184   2212    A-3   \n",
       "6   LIB.AM   B1a-18   32 24 04     213297  2170  2184   8652    A-3   \n",
       "7   LIB.AM    C1-18    32 3112   20 43 45  1093  1106  12000   A -3   \n",
       "8    MOBIL    A1-57   28 43 43   17 57 51   936   954   6280    A-3   \n",
       "\n",
       "           8           9           10  \n",
       "0        Stat     So.Date         R.R  \n",
       "1         drv    22112157  06/06/1958  \n",
       "2         drv    28/06157  09/01/1957  \n",
       "3         aas    22/09157  12105/1957  \n",
       "4         oil  12/12/1957    20/01/58  \n",
       "5  lunk \\ndrv    22/02/57    28/05/57  \n",
       "6              06/03/1957    30/10/57  \n",
       "7         drv  11/09/1957  09102/1958  \n",
       "8         drv  11103/1957    18/02/58  "
      ]
     },
     "execution_count": 34,
     "metadata": {},
     "output_type": "execute_result"
    }
   ],
   "source": [
    "tab1 = tables[0].df\n",
    "tab1"
   ]
  },
  {
   "cell_type": "code",
   "execution_count": 35,
   "id": "b9ec61cb",
   "metadata": {},
   "outputs": [],
   "source": [
    "import tabula\n",
    "import os"
   ]
  },
  {
   "cell_type": "code",
   "execution_count": 36,
   "id": "fe233e39",
   "metadata": {},
   "outputs": [],
   "source": [
    "# save them in a folder\n",
    "folder_name = \"tables\"\n",
    "if not os.path.isdir(folder_name):\n",
    "    os.mkdir(folder_name)"
   ]
  },
  {
   "cell_type": "code",
   "execution_count": 37,
   "id": "df76ef73",
   "metadata": {},
   "outputs": [],
   "source": [
    "# iterate over extracted tables and export as excel individually\n",
    "for i, table in enumerate(tables, start=1):\n",
    "    table.to_excel(os.path.join(folder_name, f\"table_{i}.xlsx\"), index=False)"
   ]
  },
  {
   "cell_type": "code",
   "execution_count": null,
   "id": "20773343",
   "metadata": {},
   "outputs": [],
   "source": []
  }
 ],
 "metadata": {
  "kernelspec": {
   "display_name": "Python 3 (ipykernel)",
   "language": "python",
   "name": "python3"
  },
  "language_info": {
   "codemirror_mode": {
    "name": "ipython",
    "version": 3
   },
   "file_extension": ".py",
   "mimetype": "text/x-python",
   "name": "python",
   "nbconvert_exporter": "python",
   "pygments_lexer": "ipython3",
   "version": "3.9.7"
  }
 },
 "nbformat": 4,
 "nbformat_minor": 5
}
